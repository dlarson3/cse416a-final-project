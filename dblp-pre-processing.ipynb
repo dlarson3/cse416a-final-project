{
 "cells": [
  {
   "cell_type": "code",
   "execution_count": 130,
   "metadata": {},
   "outputs": [],
   "source": [
    "#Only look at first author and genderize\n",
    "import csv\n",
    "with open(\"authors_unlabeled.csv\", \"r\") as inp, open(\"authors_unlabeled-p2.csv\", \"w\") as outp:\n",
    "    reader = csv.reader(inp, delimiter=\";\")\n",
    "    writer = csv.writer(outp, delimiter=\";\")\n",
    "    for row in reader:\n",
    "        first_col = row[0]\n",
    "        first_word = \" \".join(first_col.split(\" \")[:1])\n",
    "        # You can write more information if you need to.\n",
    "        writer.writerow([first_word])"
   ]
  },
  {
   "cell_type": "code",
   "execution_count": 131,
   "metadata": {},
   "outputs": [],
   "source": [
    "import csv\n",
    "\n",
    "def get_coauthor_list(s):\n",
    "    l = filter(None, s.split(\":\")) \n",
    "    return l\n",
    "    \n",
    "authors = {}\n",
    "with open(\"authors_unlabeled.csv\", \"r\") as au:\n",
    "    head = [next(au) for x in xrange(10000)]\n",
    "    reader = csv.reader(head, delimiter=\";\")\n",
    "    for row in reader:\n",
    "        if len(row[0]) < 2: #ignoring blank rows\n",
    "            continue\n",
    "        else:\n",
    "            author = row[0].split('::')[0] #get everything before the first delimeter\n",
    "            if author not in authors:\n",
    "                if \"::\" not in row[0]: \n",
    "                    continue\n",
    "                else:\n",
    "                    coauthors = row[0].split('::', 1)[1]\n",
    "                    authors.update([(author, get_coauthor_list(coauthors))] )\n",
    "            else:\n",
    "                if \"::\" not in row[0]: \n",
    "                    continue\n",
    "                else:\n",
    "                    previous_authors = authors.get(author)\n",
    "                    coauthors = row[0].split('::', 1)[1]\n",
    "                    authors.update([(author, previous_authors + get_coauthor_list(coauthors))] )\n",
    "                \n",
    "#     print(authors)\n",
    "    \n"
   ]
  },
  {
   "cell_type": "code",
   "execution_count": 132,
   "metadata": {},
   "outputs": [],
   "source": [
    "with open(\"genderize.csv\", \"r\") as g:\n",
    "    reader = csv.reader(g, delimiter=\",\")\n",
    "    for row in reader:\n",
    "        \n",
    "#         name = row[0]\n",
    "#         gender = row[1]\n",
    "#         for a in authors.keys():\n",
    "#             first_name = a.strip().split(' ')[0]\n",
    "#             if (first_name == name):\n",
    "#                 authors[a] = (row[1], authors.get(a))\n",
    "    "
   ]
  },
  {
   "cell_type": "code",
   "execution_count": 133,
   "metadata": {},
   "outputs": [],
   "source": [
    "# print authors"
   ]
  },
  {
   "cell_type": "code",
   "execution_count": 145,
   "metadata": {},
   "outputs": [],
   "source": [
    "with open(\"genderize.csv\", \"r\") as g, open('dict.csv', 'w') as csv_file:  \n",
    "    reader = csv.reader(g, delimiter=\",\")\n",
    "#     for row in reader:\n",
    "    writer = csv.writer(csv_file)\n",
    "    for key, value in authors.items():\n",
    "        writer.writerow([key, value, \"gender\"])\n"
   ]
  },
  {
   "cell_type": "code",
   "execution_count": null,
   "metadata": {},
   "outputs": [],
   "source": []
  }
 ],
 "metadata": {
  "kernelspec": {
   "display_name": "Python 2",
   "language": "python",
   "name": "python2"
  },
  "language_info": {
   "codemirror_mode": {
    "name": "ipython",
    "version": 2
   },
   "file_extension": ".py",
   "mimetype": "text/x-python",
   "name": "python",
   "nbconvert_exporter": "python",
   "pygments_lexer": "ipython2",
   "version": "2.7.16"
  }
 },
 "nbformat": 4,
 "nbformat_minor": 2
}
